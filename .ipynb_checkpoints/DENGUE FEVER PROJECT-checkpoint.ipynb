{
 "cells": [
  {
   "cell_type": "code",
   "execution_count": 18,
   "id": "adjusted-opinion",
   "metadata": {},
   "outputs": [],
   "source": [
    "import pandas as pd\n",
    "import numpy as np\n",
    "\n",
    "url = 'http://localhost:8888/edit/Dengue_features_train/dengue_labels_train.csv'\n",
    "dengue_labels_train = pd.read_csv('dengue_labels_train.csv')\n",
    "\n",
    "dengue_labels_train.head()\n",
    "dengue_features_train = pd.read_csv('dengue_features_train.csv')\n",
    "dengue_features_test = pd.read_csv('dengue_features_test (1).csv')\n",
    "submission_format = pd.read_csv('submission_format (4).csv')"
   ]
  },
  {
   "cell_type": "markdown",
   "id": "demanding-joint",
   "metadata": {},
   "source": [
    "# Introduction"
   ]
  },
  {
   "cell_type": "raw",
   "id": "strong-lucas",
   "metadata": {},
   "source": [
    "Dengue fever is a mosquito-borne disease that occurs in tropical and sub-tropical parts of the world. In mild cases, symptoms are similar to the flu: fever, rash, and muscle and joint pain. In severe cases, dengue fever can cause severe bleeding, low blood pressure, and even death.\n",
    "\n",
    "Because it is carried by mosquitoes, the transmission dynamics of dengue are related to climate variables such as temperature and precipitation. Although the relationship to climate is complex, a growing number of scientists argue that climate change is likely to produce distributional shifts that will have significant public health implications worldwide.\n",
    "\n",
    "In recent years dengue fever has been spreading. Historically, the disease has been most prevalent in Southeast Asia and the Pacific islands. These days many of the nearly half billion cases per year are occurring in Latin America."
   ]
  },
  {
   "cell_type": "markdown",
   "id": "unsigned-irish",
   "metadata": {},
   "source": [
    "# Research Background"
   ]
  },
  {
   "cell_type": "raw",
   "id": "mounted-temperature",
   "metadata": {},
   "source": [
    "The data comes from multiple sources aimed at supporting the Predict the Next Pandemic Initiative. Dengue surveillance data is provided by the U.S. Centers for Disease Control and prevention, as well as the Department of Defense's Naval Medical Research Unit 6 and the Armed Forces Health Surveillance Center, in collaboration with the Peruvian government and U.S. universities. Environmental and climate data is provided by the National Oceanic and Atmospheric Administration (NOAA), an agency of the U.S. Department of Commerce.\n"
   ]
  },
  {
   "cell_type": "markdown",
   "id": "federal-chamber",
   "metadata": {},
   "source": [
    "# Problem Statement(Prediction)"
   ]
  },
  {
   "cell_type": "raw",
   "id": "excess-wesley",
   "metadata": {},
   "source": [
    "The problem statement (goal) is to predict the total_cases label for each (city, year, week of the year) in the test set. There are two cities, San Juan and Iquitos, with test data for each city spanning 5 and 3 years respectively. This will make one submission that contains predictions for both cities. The data for each city have been concatenated along with a city column indicating the source: sj for San Juan and iq for Iquitos. The test set is a pure future hold-out, meaning the test data are sequential and non-overlapping with any of the training data. Throughout, missing values have been filled as NaNs."
   ]
  },
  {
   "cell_type": "markdown",
   "id": "uniform-nightmare",
   "metadata": {},
   "source": [
    "# Features and Observations"
   ]
  },
  {
   "cell_type": "raw",
   "id": "conceptual-checkout",
   "metadata": {},
   "source": [
    "Obeservation and Features of datsets\n",
    "List of features\n",
    "Performance metric\n",
    "Mean absolute error\n",
    "Submission Format Format\n",
    "The features in this dataset City and date indicators city –\n",
    "City abbreviations:\n",
    "sj for San Juan and iq for Iquitos\n",
    "week_start_date –Date given in yyyy-mm-dd format\n",
    "NOAA's GHCN daily climate data weather station measurements station_\n",
    "max_temp_c – Maximum temperature station_\n",
    "min_temp_c – Minimum temperature station_\n",
    "avg_temp_c – Average temperature station_\n",
    "precip_mm – Total precipitation station_\n",
    "diur_temp_rng_c – Diurnal temperature range PERSIANN satellite precipitation measurements (0.25x0.25 degree scale)\n",
    "precipitation_amt_mm – Total precipitation NOAA's NCEP Climate Forecast System Reanalysis measurements (0.5x0.5 degree scale) reanalysis\n",
    "sat_precip_amt_mm –Total precipitation reanalysis_\n",
    "dew_point_temp_k – Mean dew point temperature reanalysis_\n",
    "air_temp_k – Mean air temperature reanalysis_\n",
    "relative_humidity_percent – Mean relative humidity reanalysis_specific_humidity_\n",
    "g_per_kg – Mean specific humidity reanalysis_\n",
    "precip_amt_kg_per_m2 – Total precipitation reanalysis_\n",
    "max_air_temp_k – Maximum air temperature reanalysis_\n",
    "min_air_temp_k –Minimum air temperature reanalysis_\n",
    "avg_temp_k – Average air temperature reanalysis_\n",
    "tdtr_k –Diurnal temperature range Satellite vegetation -\n",
    "Normalized difference vegetation index (NDVI) -\n",
    "NOAA's CDR Normalized Difference Vegetation Index (0.5x0.5 degree scale) measurements\n",
    "ndvi_se – Pixel southeast of city centroid\n",
    "ndvi_sw – Pixel southwest of city centroid\n",
    "ndvi_ne –Pixel northeast of city centroid\n",
    "ndvi_nw – Pixel northwest of city centroid\n"
   ]
  },
  {
   "cell_type": "markdown",
   "id": "anticipated-console",
   "metadata": {},
   "source": [
    "# Summary of the Dataset"
   ]
  },
  {
   "cell_type": "raw",
   "id": "numeric-creator",
   "metadata": {},
   "source": [
    "The current epidemics of dengue fever diseases have been a burning issue. Hence there is need to resolve The statical significant and relationship between climate and dengue dynamics can improve research initiatives and resource allocation to help fight life-threatening pandemics.\n",
    " Hence we will be able to predict the number of dengue cases each week (in each location) based on environmental variables describing changes in temperature, precipitation, vegetation, and more."
   ]
  }
 ],
 "metadata": {
  "kernelspec": {
   "display_name": "Python 3",
   "language": "python",
   "name": "python3"
  },
  "language_info": {
   "codemirror_mode": {
    "name": "ipython",
    "version": 3
   },
   "file_extension": ".py",
   "mimetype": "text/x-python",
   "name": "python",
   "nbconvert_exporter": "python",
   "pygments_lexer": "ipython3",
   "version": "3.9.1"
  }
 },
 "nbformat": 4,
 "nbformat_minor": 5
}
